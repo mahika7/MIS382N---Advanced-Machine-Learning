{
 "cells": [
  {
   "cell_type": "markdown",
   "metadata": {
    "id": "evHVxwk2JA-3"
   },
   "source": [
    "# <p style=\"text-align: center;\">MIS 382N: Advanced Machine Learning</p>\n",
    "# <p style=\"text-align: center;\">Homework 1</p>\n",
    "## <p style=\"text-align: center;\">Total points: 55</p>\n",
    "## <p style=\"text-align: center;\">Due: Wednesday, **Sep 10** submitted via Canvas by 11:59 pm</p>\n",
    "\n",
    "Your homework should be written in a **Jupyter notebook**. Please make sure your code runs and the graphics (and anything else) are displayed in your notebook before submitting (%matplotlib inline). **This can be an individual assignment or group of 2. If you choose to do it as a group, please specify who you are working with (name and EID), then only one student should submit the homework.**\n",
    "\n",
    "**Note: Notebooks MUST have the images embedded in them. There will be no regrades if attached images do not render in the notebook. Please re download from canvas after submission and make sure all attached images render without errors. (Hint: Image module from IPython.display)**"
   ]
  },
  {
   "cell_type": "code",
   "execution_count": null,
   "metadata": {
    "id": "0eTfjKUv7_Yo"
   },
   "outputs": [],
   "source": []
  },
  {
   "cell_type": "markdown",
   "metadata": {
    "id": "TWWU_gOSLEEv"
   },
   "source": [
    "# Question 1: MLOps (10 pts)\n",
    "Read this [article](https://towardsdatascience.com/what-is-mlops-everything-you-must-know-to-get-started-523f2d0b8bd8) \"What is MLOps — Everything You Must Know to Get Started\", which gives a quick walkthrough of the machine learning development lifecycle and explains how MLOps come into play, or watch this [video](https://www.youtube.com/watch?v=06-AZXmwHjo) which you may find interesting.\n",
    "\n",
    "1. (**4 pts**) Use your own words to describe what MLOps is, and what challenges MLOps address. Limit your answer to one paragraph.\n",
    "\n",
    "2. (**6 pts**) Describe what the main phases in MLOps are. Your answer should be 2-3 paragraphs.\n",
    "\n",
    "\n",
    "## Answer: \n",
    "\n",
    "1. MLOps (Mahine Learning Operations) or ModelOps combines ML with systems development (dev) and deployment (ops) to standardize and streamline the continuous delivery of well performing models in production. It encompasses complete ML lifecycle from software development to model generation & deployment and monitoring. It brings in specialized professions such as ML engineers to overcome the resource scarcity of data scientists, who are good at development and deployment. The pipeline also aids in keeping up with changing business objectives with continuous model training along with maintaining performance standards & ensuring AI governance, bridging the communication gap between technical and business teams and risk Assessment in case of undesired or less accurate results from complex ML algos.\n",
    "\n",
    "\n",
    "\n",
    "2. The phases of MLOps start with translation of business objectived to ML problems keeping in mind specific the relevant performance measures, budget constraints and KPIs driving the model deployment. After translation of business problems to ML objectives, the next task is to search & access relevant data from credible sources and build a data pipeline to drive model training and optimization. Next, data preparation involves creating a pipeline for getting the data in a workable format, i.e. cleaning and producing compatible data performing tasks like feature engineering, formatting, outlier detection, imputations, rebalancing, feature selection etc. It also includes choosing the right cloud services and architecture for high performance and cost-effectiveness. \n",
    "\n",
    "    Post data preparation, different models are trained to figure the best solution corresponding to best hyperparameters and thus highest accuracy or other performance metrics. Different models can be versioned or a version control can be added for reproducibility. The models can be further compared to other simpler models across dimensions, or scaled using distributed systems and hardware accelerators. ML pipelines are created for identifying system requirements, choosing the best-suited cloud architecture, creating and tracking training and testing pipelines and validating data. Deployment of model can be either static or dynamic based on considerations as ensurance of documentation and testing scores, model accuracy revalidation, explainability checks, checking data quality and load testing. In static deployment, model is deployed via installable application software. In dynamic deployment, model uses web framework like Flask for deployment and acts as an API endpoint that responds to user requests. Maintenance of the system and ensurance of good governance are included in this phase. This involves, keeping track in case of performance deviation of models, managing evaluation criteria, troubleshooting system failures and tuning of model in both training and serving pipelines. "
   ]
  },
  {
   "cell_type": "markdown",
   "metadata": {
    "id": "wusA9L1LmUMH"
   },
   "source": [
    "# Question 2: Applications of Machine Learning (5 pts)\n",
    "Read this [article](https://builtin.com/data-science/data-science-applications-examples) \"17 Data Science Applications & Examples\" and pick one of the data science systems used by various organizations according to this blog. \n",
    "\n",
    "For this system you have chosen, answer the following questions. Please limit your answer to one paragraph:\n",
    "\n",
    "1. What kind of machine learning problem is involved (e.g. classification, regression, clustering, outlier detection,...) in this system?\n",
    "2. Speculate on what kind of data may be needed and how the results can be useful to the organization.\n",
    "3. What do you think are the ethical implications of using machine learning in a domain like this?\n",
    "\n",
    "## Answer:\n",
    "\n",
    "1. For Oncora Cancer Care recommendations, it uses machine learning for classification of patients based on severity of symptoms and provide recommendations to assist treatment decisions. \n",
    "\n",
    "\n",
    "2. The data used can include patient cancer history, treatment, effects and side-effects, side-effect treatment plans, radiation and chemotherapy treatment plans, medical imaging data from tests and other details like patient details, demographics, family history and lifestyle. This data will help assess susceptibility of a patient to the current relevant medical conditions and help in understanding the efficiency of current treatment plan and possible recommendations.\n",
    "\n",
    "\n",
    "3. Ethical implications include establishment of practises for user consent, data confidentiality and security, tracking and monitoring of model and relevant action in case of deviance from desired results, update in terms of developments in technology as well as medical literature according to latest trends etc."
   ]
  },
  {
   "cell_type": "markdown",
   "metadata": {
    "id": "2w8za9lLmVO7"
   },
   "source": [
    "# Question 3: Simpson's Paradox (10 pts)\n",
    "A data scientist should be careful about drawing unwarranted conclusions about any data that is presented. One of the 'gotchas' that can happen even in apparently very simple tabular summaries, is called Simpson's paradox.\n",
    "\n",
    "Read this [article](https://www.covid-datascience.com/post/israeli-data-how-can-efficacy-vs-severe-disease-be-strong-when-60-of-hospitalized-are-vaccinated), which explains why the computed efficacy of the Pfizer vaccine is misleadingly low (67.5%) when you lump all people together, but once you stratify people by age (which is the right thing to do), you get much higher efficacy numbers.\n",
    "\n",
    "1.(**5 pts**) Explain in your own words what Simpson's paradox is, and how this 'paradox' can happen in real data.\n",
    "\n",
    "2.(**5 pts**) Find and mention another example of Simpson's paradox (but not any of the 3 examples given in the Wikipedia entry for 'Simpson's paradox'), state why the paradox appeared in your chosen example. Also give a reference (URL) to your source for the chosen example.\n",
    "\n",
    "## Answer:\n",
    "\n",
    "1. Simpson's Paradox is a phenomenon where the trend shown by the data in stratified groups with respect to another variable reverses or disappears when seen over the entire/ overall data. This can be resolved when confounding variables are identified and used appropriately to explain the data. \n",
    "\n",
    "\n",
    "2. An example of the paradox is when it was assessed that the median weekly wage in US had grown by ~1% since 2000, adjusting inflation. But the median wage had actually dropped drastically for sections as high school dropouts(7.9%), high school graduates(4.7%), college education(7.6%) and atleast one degree(1.2%). To summarise, every group's wage had decreased whereas overall it showed increase. This happened as size of the groups changed overall, with much more people graduating from college now than before and thus getting higher salaries. The link to the example: https://www.newstatesman.com/2013/05/most-misleading-statistics-all-thanks-simpsons-paradox"
   ]
  },
  {
   "cell_type": "markdown",
   "metadata": {
    "id": "gth0D8jiMBSe"
   },
   "source": [
    "# Question 4: Ridge and Lasso Regression (30 pts)\n",
    "\n",
    "Download the dataset **Admission.csv** from Canvas and use the following codes to import the Admission dataset in Python. \n",
    "\n",
    "There are 7 features in the dataset:\n",
    "\n",
    "1. GRE score\n",
    "2. TOEFL score\n",
    "3. University Rating\n",
    "4. SOP(Statement of Purpose)\n",
    "5. LOR(Letter of Recommendation)\n",
    "6. CGPA\n",
    "7. Research\n",
    "\n",
    "And the target is **Chance of Admission**."
   ]
  },
  {
   "cell_type": "code",
   "execution_count": null,
   "metadata": {
    "id": "QFazlpLgGpAa"
   },
   "outputs": [],
   "source": [
    "# Only use this code block if you are using Google Colab.\n",
    "# If you are using Jupyter Notebook, please ignore this code block. You can directly upload the file to your Jupyter Notebook file systems.\n",
    "from google.colab import files\n",
    "\n",
    "## It will prompt you to select a local file. Click on “Choose Files” then select and upload the file. \n",
    "## Wait for the file to be 100% uploaded. You should see the name of the file once Colab has uploaded it.\n",
    "uploaded = files.upload()"
   ]
  },
  {
   "cell_type": "code",
   "execution_count": 4,
   "metadata": {
    "id": "xsPaOOehGuU6"
   },
   "outputs": [],
   "source": [
    "# Codes below will work for both Google Colab and Jupyter Notebook.\n",
    "import numpy as np\n",
    "import pandas as pd\n",
    "import random\n",
    "from sklearn import linear_model\n",
    "from sklearn.metrics import mean_absolute_error, mean_squared_error\n",
    "from sklearn.linear_model import LinearRegression\n",
    "\n",
    "## Load the dataset into pandas DataFrame\n",
    "df = pd.read_csv('Admission.csv', index_col=0)\n",
    "df = df.replace([np.inf, -np.inf], np.nan) # \n",
    "df = df.fillna(0) # Replace all the NaN values with 0"
   ]
  },
  {
   "cell_type": "code",
   "execution_count": 5,
   "metadata": {
    "id": "PmMz72U6Gv-z"
   },
   "outputs": [
    {
     "data": {
      "text/plain": [
       "Index(['GRE_Score', 'TOEFL_Score', 'University_Rating', 'SOP', 'LOR ', 'CGPA',\n",
       "       'Research', 'Chance_of_Admit'],\n",
       "      dtype='object')"
      ]
     },
     "execution_count": 5,
     "metadata": {},
     "output_type": "execute_result"
    }
   ],
   "source": [
    "df.columns # Show you all the columns in this file"
   ]
  },
  {
   "cell_type": "code",
   "execution_count": 6,
   "metadata": {
    "id": "CyZN-yFfGxlt"
   },
   "outputs": [
    {
     "data": {
      "text/html": [
       "<div>\n",
       "<style scoped>\n",
       "    .dataframe tbody tr th:only-of-type {\n",
       "        vertical-align: middle;\n",
       "    }\n",
       "\n",
       "    .dataframe tbody tr th {\n",
       "        vertical-align: top;\n",
       "    }\n",
       "\n",
       "    .dataframe thead th {\n",
       "        text-align: right;\n",
       "    }\n",
       "</style>\n",
       "<table border=\"1\" class=\"dataframe\">\n",
       "  <thead>\n",
       "    <tr style=\"text-align: right;\">\n",
       "      <th></th>\n",
       "      <th>GRE_Score</th>\n",
       "      <th>TOEFL_Score</th>\n",
       "      <th>University_Rating</th>\n",
       "      <th>SOP</th>\n",
       "      <th>LOR</th>\n",
       "      <th>CGPA</th>\n",
       "      <th>Research</th>\n",
       "      <th>Chance_of_Admit</th>\n",
       "    </tr>\n",
       "    <tr>\n",
       "      <th>Serial No.</th>\n",
       "      <th></th>\n",
       "      <th></th>\n",
       "      <th></th>\n",
       "      <th></th>\n",
       "      <th></th>\n",
       "      <th></th>\n",
       "      <th></th>\n",
       "      <th></th>\n",
       "    </tr>\n",
       "  </thead>\n",
       "  <tbody>\n",
       "    <tr>\n",
       "      <th>1</th>\n",
       "      <td>337</td>\n",
       "      <td>118</td>\n",
       "      <td>4</td>\n",
       "      <td>4.5</td>\n",
       "      <td>4.5</td>\n",
       "      <td>9.65</td>\n",
       "      <td>1</td>\n",
       "      <td>0.92</td>\n",
       "    </tr>\n",
       "    <tr>\n",
       "      <th>2</th>\n",
       "      <td>324</td>\n",
       "      <td>107</td>\n",
       "      <td>4</td>\n",
       "      <td>4.0</td>\n",
       "      <td>4.5</td>\n",
       "      <td>8.87</td>\n",
       "      <td>1</td>\n",
       "      <td>0.76</td>\n",
       "    </tr>\n",
       "    <tr>\n",
       "      <th>3</th>\n",
       "      <td>316</td>\n",
       "      <td>104</td>\n",
       "      <td>3</td>\n",
       "      <td>3.0</td>\n",
       "      <td>3.5</td>\n",
       "      <td>8.00</td>\n",
       "      <td>1</td>\n",
       "      <td>0.72</td>\n",
       "    </tr>\n",
       "    <tr>\n",
       "      <th>4</th>\n",
       "      <td>322</td>\n",
       "      <td>110</td>\n",
       "      <td>3</td>\n",
       "      <td>3.5</td>\n",
       "      <td>2.5</td>\n",
       "      <td>8.67</td>\n",
       "      <td>1</td>\n",
       "      <td>0.80</td>\n",
       "    </tr>\n",
       "    <tr>\n",
       "      <th>5</th>\n",
       "      <td>314</td>\n",
       "      <td>103</td>\n",
       "      <td>2</td>\n",
       "      <td>2.0</td>\n",
       "      <td>3.0</td>\n",
       "      <td>8.21</td>\n",
       "      <td>0</td>\n",
       "      <td>0.65</td>\n",
       "    </tr>\n",
       "  </tbody>\n",
       "</table>\n",
       "</div>"
      ],
      "text/plain": [
       "            GRE_Score  TOEFL_Score  University_Rating  SOP  LOR   CGPA  \\\n",
       "Serial No.                                                               \n",
       "1                 337          118                  4  4.5   4.5  9.65   \n",
       "2                 324          107                  4  4.0   4.5  8.87   \n",
       "3                 316          104                  3  3.0   3.5  8.00   \n",
       "4                 322          110                  3  3.5   2.5  8.67   \n",
       "5                 314          103                  2  2.0   3.0  8.21   \n",
       "\n",
       "            Research  Chance_of_Admit  \n",
       "Serial No.                             \n",
       "1                  1             0.92  \n",
       "2                  1             0.76  \n",
       "3                  1             0.72  \n",
       "4                  1             0.80  \n",
       "5                  0             0.65  "
      ]
     },
     "execution_count": 6,
     "metadata": {},
     "output_type": "execute_result"
    }
   ],
   "source": [
    "df.head() # Show you the first 5 rows in this file"
   ]
  },
  {
   "cell_type": "code",
   "execution_count": 7,
   "metadata": {
    "id": "S3TfR0i4G2rO"
   },
   "outputs": [],
   "source": [
    "y = df['Chance_of_Admit'] # The column named Chance_of_Admit is used as the target, and we store it in y\n",
    "X = df.drop(['Chance_of_Admit'], axis=1) # We keep the remaining columns as the features, and store them in x"
   ]
  },
  {
   "cell_type": "markdown",
   "metadata": {
    "id": "pKq1KERxJw9y"
   },
   "source": [
    "1)(**2 pts**) Split the data into a training set(75% of data) and a test set(25% of data), using the [train_test_split](https://scikit-learn.org/stable/modules/generated/sklearn.model_selection.train_test_split.html) function with random_state = 50. Then scale the data (not including target) so that each of the independent variables would have zero mean and unit variance. You can use the [sklearn.preprocessing.scale](https://scikit-learn.org/stable/modules/generated/sklearn.preprocessing.scale.html) function for this. Print the first 5 rows of the training set after scaling.\n",
    "\n",
    "2)(**5 pts**) Use [sklearn.linear_model.Lasso](https://scikit-learn.org/stable/modules/generated/sklearn.linear_model.Lasso.html) and [sklearn.linear_model.Ridge](https://scikit-learn.org/stable/modules/generated/sklearn.linear_model.Ridge.html) classes to do a **5-fold** cross validation using sklearn's KFold. For the sweep of the regularization parameter, we will look at a grid of values ranging from α=10^10 to α=10^−6. In Python, you can consider this range of values as follows: alpha = 10**numpy.linspace(6,-6,100) \n",
    "so that you can generate 100 uniform values between -6 to 6 as power series.\n",
    "\n",
    "Fit the 2 regression models with scaled data and report the best chosen **α** based on cross validation as well as the corresponding scoring metric. The cross validation should happen on your training data using **MSE** as the scoring metric.\n",
    "\n",
    "3)(**5 pts**) Run ridge and lasso regression for all of the **α** specified above (on training data), and plot the coefficients learned for each of them - there should be one plot each for lasso and ridge, so a total of two plots; different features' weights of each model should be on the same plot with different colors (3pts). \n",
    "\n",
    "What do you qualitatively observe when the value of the regularization parameter changes (2pts)? \n",
    "\n",
    "4)(**3 pts**) Take the exponential of Y_train as the target, and fit the 2 regression models again. Report the best chosen **α** based on cross validation as well as the corresponding scoring metric. Compare the results of using the original target with the results of using the exponential of the target. What do you observe? \n",
    "\n",
    "5)(**5 pts**) Similarly, use [sklearn.linear_model.ElasticNet](https://scikit-learn.org/stable/modules/generated/sklearn.linear_model.ElasticNet.html) to do linear regression with different **α** values, and plot the coefficients learned for each of them (2pts). Observe the plot, then explain the pros and cons of ridge, lasso and Elastic Net models (3pts).\n",
    "\n",
    "\n",
    "6)(**5 pts**) Run the following three regression models with **MSE** loss on the training data: \n",
    "\n",
    "a. linear regression without regularization (1pts)\n",
    "\n",
    "b. linear regression with ridge regularization (2pts)\n",
    "\n",
    "c. linear regression with lasso regularization (2pts)\n",
    "\n",
    "For part (b) and (c), use only the best regularization parameters. Report the MSE and R<sup>2</sup> on the test data for each model.\n",
    "\n",
    "7)(**5 pts**) Train the 3 models and report the metrics with the original data without scaling (3pts). \n",
    "\n",
    "Why do we need to scale the data before regularization (2pts)? \n",
    "\n",
    "## Answer:\n"
   ]
  },
  {
   "cell_type": "code",
   "execution_count": 8,
   "metadata": {
    "id": "pJwSM8ENCYWg"
   },
   "outputs": [
    {
     "data": {
      "text/html": [
       "<div>\n",
       "<style scoped>\n",
       "    .dataframe tbody tr th:only-of-type {\n",
       "        vertical-align: middle;\n",
       "    }\n",
       "\n",
       "    .dataframe tbody tr th {\n",
       "        vertical-align: top;\n",
       "    }\n",
       "\n",
       "    .dataframe thead th {\n",
       "        text-align: right;\n",
       "    }\n",
       "</style>\n",
       "<table border=\"1\" class=\"dataframe\">\n",
       "  <thead>\n",
       "    <tr style=\"text-align: right;\">\n",
       "      <th></th>\n",
       "      <th>GRE_Score</th>\n",
       "      <th>TOEFL_Score</th>\n",
       "      <th>University_Rating</th>\n",
       "      <th>SOP</th>\n",
       "      <th>LOR</th>\n",
       "      <th>CGPA</th>\n",
       "      <th>Research</th>\n",
       "    </tr>\n",
       "  </thead>\n",
       "  <tbody>\n",
       "    <tr>\n",
       "      <th>0</th>\n",
       "      <td>1.527254</td>\n",
       "      <td>2.091771</td>\n",
       "      <td>1.615944</td>\n",
       "      <td>0.631508</td>\n",
       "      <td>1.728291</td>\n",
       "      <td>2.113703</td>\n",
       "      <td>0.904534</td>\n",
       "    </tr>\n",
       "    <tr>\n",
       "      <th>1</th>\n",
       "      <td>0.741809</td>\n",
       "      <td>0.463089</td>\n",
       "      <td>-0.931078</td>\n",
       "      <td>-0.352660</td>\n",
       "      <td>-1.041406</td>\n",
       "      <td>0.294888</td>\n",
       "      <td>0.904534</td>\n",
       "    </tr>\n",
       "    <tr>\n",
       "      <th>2</th>\n",
       "      <td>0.567266</td>\n",
       "      <td>0.137352</td>\n",
       "      <td>1.615944</td>\n",
       "      <td>0.631508</td>\n",
       "      <td>0.620412</td>\n",
       "      <td>0.262117</td>\n",
       "      <td>0.904534</td>\n",
       "    </tr>\n",
       "    <tr>\n",
       "      <th>3</th>\n",
       "      <td>-0.392722</td>\n",
       "      <td>-0.514121</td>\n",
       "      <td>-0.082071</td>\n",
       "      <td>0.139424</td>\n",
       "      <td>0.620412</td>\n",
       "      <td>-0.802955</td>\n",
       "      <td>-1.105542</td>\n",
       "    </tr>\n",
       "    <tr>\n",
       "      <th>4</th>\n",
       "      <td>0.479994</td>\n",
       "      <td>0.788825</td>\n",
       "      <td>0.766936</td>\n",
       "      <td>1.123593</td>\n",
       "      <td>1.174352</td>\n",
       "      <td>1.114174</td>\n",
       "      <td>0.904534</td>\n",
       "    </tr>\n",
       "  </tbody>\n",
       "</table>\n",
       "</div>"
      ],
      "text/plain": [
       "   GRE_Score  TOEFL_Score  University_Rating       SOP      LOR       CGPA  \\\n",
       "0   1.527254     2.091771           1.615944  0.631508  1.728291  2.113703   \n",
       "1   0.741809     0.463089          -0.931078 -0.352660 -1.041406  0.294888   \n",
       "2   0.567266     0.137352           1.615944  0.631508  0.620412  0.262117   \n",
       "3  -0.392722    -0.514121          -0.082071  0.139424  0.620412 -0.802955   \n",
       "4   0.479994     0.788825           0.766936  1.123593  1.174352  1.114174   \n",
       "\n",
       "   Research  \n",
       "0  0.904534  \n",
       "1  0.904534  \n",
       "2  0.904534  \n",
       "3 -1.105542  \n",
       "4  0.904534  "
      ]
     },
     "execution_count": 8,
     "metadata": {},
     "output_type": "execute_result"
    }
   ],
   "source": [
    "#part 1\n",
    "\n",
    "#dividing the dataset into train and test sets\n",
    "from sklearn.model_selection import train_test_split\n",
    "X_train, X_test, y_train, y_test = train_test_split(X, y, test_size=0.25, random_state=50)\n",
    "\n",
    "#scaling the data for it to have mean 0 and variance 1\n",
    "from sklearn import preprocessing\n",
    "scaler = preprocessing.StandardScaler()\n",
    "X_train = pd.DataFrame(scaler.fit_transform(X_train))\n",
    "X_test = pd.DataFrame(scaler.transform(X_test))\n",
    "\n",
    "#renaming the columns back to original names\n",
    "X_train.columns = df.columns[:-1]\n",
    "X_test.columns = df.columns[:-1]\n",
    "\n",
    "X_train.head()"
   ]
  },
  {
   "cell_type": "code",
   "execution_count": 30,
   "metadata": {},
   "outputs": [
    {
     "name": "stdout",
     "output_type": "stream",
     "text": [
      "0.0008111308307896856 0.0041156036880727566\n",
      "6.135907273413176 0.004121115233855434\n"
     ]
    }
   ],
   "source": [
    "#part2\n",
    "\n",
    "from sklearn.linear_model import Lasso\n",
    "from sklearn.linear_model import Ridge\n",
    "from sklearn.metrics import mean_squared_error\n",
    "from sklearn.model_selection import KFold\n",
    "\n",
    "\n",
    "#assigning alpha and cross-validation parameters\n",
    "alpha = 10**np.linspace(6,-6,100) \n",
    "kf = KFold(n_splits=5,shuffle=True,random_state=2000)\n",
    "mse_lasso=[]\n",
    "mse_ridge=[]\n",
    "\n",
    "#lasso regression to find best alpha\n",
    "for i in alpha:\n",
    "    lasso = Lasso(alpha = i)\n",
    "    mse_temp=[]\n",
    "    \n",
    "    for train_index, test_index in kf.split(X_train):\n",
    "        X_traincv, X_testcv = X_train.iloc[train_index], X_train.iloc[test_index]\n",
    "        y_traincv, y_testcv = y_train.iloc[train_index], y_train.iloc[test_index]\n",
    "        y_pred = lasso.fit(X_traincv, y_traincv).predict(X_testcv)\n",
    "        mse = mean_squared_error(y_testcv, y_pred)\n",
    "        mse_temp.append(mse)\n",
    "    \n",
    "    mse_lasso.append(np.mean(mse_temp))\n",
    "\n",
    "#best alpha for lasso based on cross validation    \n",
    "best_lasso = alpha[mse_lasso.index(min(mse_lasso))]\n",
    "\n",
    "#ridge regression to find best alpha\n",
    "for i in alpha:\n",
    "    ridge = Ridge(alpha = i)\n",
    "    mse_temp=[]\n",
    "    \n",
    "    for train_index, test_index in kf.split(X_train):\n",
    "        X_traincv, X_testcv = X_train.iloc[train_index], X_train.iloc[test_index]\n",
    "        y_traincv, y_testcv = y_train.iloc[train_index], y_train.iloc[test_index]\n",
    "        y_pred = ridge.fit(X_traincv, y_traincv).predict(X_testcv)\n",
    "        mse = mean_squared_error(y_testcv, y_pred)\n",
    "        mse_temp.append(mse)\n",
    "    \n",
    "    mse_ridge.append(np.mean(mse_temp))\n",
    "\n",
    "#best alpha for ridge based on cross validation \n",
    "best_ridge = alpha[mse_ridge.index(min(mse_ridge))]\n",
    "\n",
    "#printing the results\n",
    "print(best_lasso, min(mse_lasso))\n",
    "print(best_ridge, min(mse_ridge))\n"
   ]
  },
  {
   "cell_type": "code",
   "execution_count": 10,
   "metadata": {},
   "outputs": [
    {
     "data": {
      "text/plain": [
       "0.7314354573384603"
      ]
     },
     "execution_count": 10,
     "metadata": {},
     "output_type": "execute_result"
    }
   ],
   "source": [
    "#checking R-square with lasso\n",
    "lasso = Lasso(alpha = best_lasso)\n",
    "lasso.fit(X_train, y_train)\n",
    "lasso.score(X_test, y_test)"
   ]
  },
  {
   "cell_type": "code",
   "execution_count": 31,
   "metadata": {},
   "outputs": [
    {
     "data": {
      "text/plain": [
       "0.733149345479547"
      ]
     },
     "execution_count": 31,
     "metadata": {},
     "output_type": "execute_result"
    }
   ],
   "source": [
    "#checking R-square with ridge\n",
    "ridge = Ridge(alpha = best_ridge)\n",
    "ridge.fit(X_train, y_train)\n",
    "ridge.score(X_test, y_test)"
   ]
  },
  {
   "cell_type": "code",
   "execution_count": 12,
   "metadata": {},
   "outputs": [
    {
     "data": {
      "image/png": "[encoded data removed]",
      "text/plain": [
       "<Figure size 432x288 with 1 Axes>"
      ]
     },
     "metadata": {
      "needs_background": "light"
     },
     "output_type": "display_data"
    }
   ],
   "source": [
    "#part 3\n",
    "#lasso regression to find best alpha and related coefficients\n",
    "import matplotlib.pyplot as plt\n",
    "\n",
    "lasso_coef = []\n",
    "ridge_coef = []\n",
    "\n",
    "for i in alpha:\n",
    "    lasso = Lasso(alpha = i)\n",
    "    coef_temp=[]\n",
    "    \n",
    "    for train_index, test_index in kf.split(X_train):\n",
    "        X_traincv, X_testcv = X_train.iloc[train_index], X_train.iloc[test_index]\n",
    "        y_traincv, y_testcv = y_train.iloc[train_index], y_train.iloc[test_index]\n",
    "        y_pred = lasso.fit(X_traincv, y_traincv).predict(X_testcv)\n",
    "        coef = lasso.coef_\n",
    "        coef_temp.append(coef)\n",
    "    \n",
    "    lasso_coef.append(np.mean(coef_temp, axis = 0))\n",
    "\n",
    "#plotting the curve\n",
    "plt.xlabel(\"Log of alpha\")\n",
    "plt.ylabel(\"coefficients\")\n",
    "plt.title(\"Lasso Coefficients\")\n",
    "for i in range(len(lasso_coef[0])):\n",
    "    plt.plot(np.log(alpha),[pt[i] for pt in lasso_coef],label = '%s'%X_train.columns[i])\n",
    "plt.legend()\n",
    "plt.show()"
   ]
  },
  {
   "cell_type": "markdown",
   "metadata": {},
   "source": [
    "### Based on the curve, as regularization parameter increases, the penalization on coefficients increases and thus the coefficients drop to 0; the less significant ones drop earlier."
   ]
  },
  {
   "cell_type": "code",
   "execution_count": 13,
   "metadata": {},
   "outputs": [
    {
     "data": {
      "image/png": "[encoded data removed]",
      "text/plain": [
       "<Figure size 432x288 with 1 Axes>"
      ]
     },
     "metadata": {
      "needs_background": "light"
     },
     "output_type": "display_data"
    }
   ],
   "source": [
    "#ridge regression to find best alpha and related coefficients\n",
    "for i in alpha:\n",
    "    ridge = Ridge(alpha = i)\n",
    "    coef_temp=[]\n",
    "    \n",
    "    for train_index, test_index in kf.split(X_train):\n",
    "        X_traincv, X_testcv = X_train.iloc[train_index], X_train.iloc[test_index]\n",
    "        y_traincv, y_testcv = y_train.iloc[train_index], y_train.iloc[test_index]\n",
    "        y_pred = ridge.fit(X_traincv, y_traincv).predict(X_testcv)\n",
    "        coef = ridge.coef_\n",
    "        coef_temp.append(coef)\n",
    "    \n",
    "    ridge_coef.append(np.mean(coef_temp, axis = 0))\n",
    "\n",
    "#plotting the curve\n",
    "plt.xlabel(\"Log of alpha\")\n",
    "plt.ylabel(\"coefficients\")\n",
    "plt.title(\"Ridge Coefficients\")\n",
    "for i in range(len(ridge_coef[0])):\n",
    "    plt.plot(np.log(alpha),[pt[i] for pt in ridge_coef],label = '%s'%X_train.columns[i])\n",
    "plt.legend()\n",
    "plt.show()"
   ]
  },
  {
   "cell_type": "markdown",
   "metadata": {},
   "source": [
    "### The values decrease as regularization parameter increases, but not as suddenly as in the case of lasso. The graph is smoother for the coefficient values and the decrease is more gradual."
   ]
  },
  {
   "cell_type": "code",
   "execution_count": 32,
   "metadata": {},
   "outputs": [],
   "source": [
    "#part 4\n",
    "\n",
    "#case when e^y is used as the target variable\n",
    "import math\n",
    "\n",
    "y_train2 = np.exp(y_train)\n",
    "\n",
    "mse_lasso2=[]\n",
    "mse_ridge2=[]\n",
    "\n",
    "#lasso regression to find best alpha\n",
    "for i in alpha:\n",
    "    lasso = Lasso(alpha = i)\n",
    "    mse_temp=[]\n",
    "    \n",
    "    for train_index, test_index in kf.split(X_train):\n",
    "        X_traincv, X_testcv = X_train.iloc[train_index], X_train.iloc[test_index]\n",
    "        y_traincv, y_testcv = y_train2.iloc[train_index], y_train2.iloc[test_index]\n",
    "        y_pred = lasso.fit(X_traincv, y_traincv).predict(X_testcv)\n",
    "        mse = mean_squared_error(y_testcv, y_pred)\n",
    "        mse_temp.append(mse)\n",
    "    \n",
    "    mse_lasso2.append(np.mean(mse_temp))\n",
    "        \n",
    "best_lasso2 = alpha[mse_lasso2.index(min(mse_lasso2))]\n",
    "\n",
    "#ridge regression to find best alpha\n",
    "for i in alpha:\n",
    "    ridge = Ridge(alpha = i)\n",
    "    mse_temp=[]\n",
    "    \n",
    "    for train_index, test_index in kf.split(X_train):\n",
    "        X_traincv, X_testcv = X_train.iloc[train_index], X_train.iloc[test_index]\n",
    "        y_traincv, y_testcv = y_train2.iloc[train_index], y_train2.iloc[test_index]\n",
    "        y_pred = ridge.fit(X_traincv, y_traincv).predict(X_testcv)\n",
    "        mse = mean_squared_error(y_testcv, y_pred)\n",
    "        mse_temp.append(mse)\n",
    "    \n",
    "    mse_ridge2.append(np.mean(mse_temp))\n",
    "        \n",
    "best_ridge2 = alpha[mse_ridge2.index(min(mse_ridge2))]"
   ]
  },
  {
   "cell_type": "code",
   "execution_count": 18,
   "metadata": {},
   "outputs": [
    {
     "data": {
      "text/plain": [
       "0.7312467064105427"
      ]
     },
     "execution_count": 18,
     "metadata": {},
     "output_type": "execute_result"
    }
   ],
   "source": [
    "#getting r-square for lasso\n",
    "lasso2 = Lasso(alpha = best_lasso2)\n",
    "lasso2.fit(X_train, y_train)\n",
    "lasso2.score(X_test, y_test)"
   ]
  },
  {
   "cell_type": "code",
   "execution_count": 33,
   "metadata": {},
   "outputs": [
    {
     "data": {
      "text/plain": [
       "0.733149345479547"
      ]
     },
     "execution_count": 33,
     "metadata": {},
     "output_type": "execute_result"
    }
   ],
   "source": [
    "#getting r-square for ridge\n",
    "ridge2 = Ridge(alpha = best_ridge2)\n",
    "ridge2.fit(X_train, y_train)\n",
    "ridge2.score(X_test, y_test)"
   ]
  },
  {
   "cell_type": "markdown",
   "metadata": {},
   "source": [
    "### There is not much difference in final r-scores when e^y is used in place of y. It might be due to the fact that the models adjust the coefficient values according to the magnitude of the target variables and thus produce similar results."
   ]
  },
  {
   "cell_type": "code",
   "execution_count": 34,
   "metadata": {},
   "outputs": [
    {
     "data": {
      "image/png": "[encoded data removed]",
      "text/plain": [
       "<Figure size 432x288 with 1 Axes>"
      ]
     },
     "metadata": {
      "needs_background": "light"
     },
     "output_type": "display_data"
    }
   ],
   "source": [
    "#part 5\n",
    "\n",
    "#creating elastic net model for the data\n",
    "from sklearn.linear_model import ElasticNet\n",
    "\n",
    "elnet_coef = []\n",
    "mse_elnet = []\n",
    "\n",
    "for i in alpha:\n",
    "    elnet = ElasticNet(alpha = i)\n",
    "    coef_temp=[]\n",
    "    y_pred = elnet.fit(X_train, y_train).predict(X_test)\n",
    "    coef = elnet.coef_\n",
    "    elnet_coef.append(coef)\n",
    "    mse = mean_squared_error(y_test, y_pred)\n",
    "    mse_elnet.append(mse)\n",
    "    \n",
    "best_elnet = alpha[mse_elnet.index(min(mse_elnet))]\n",
    "\n",
    "#plotting the curve\n",
    "plt.xlabel(\"Log of alpha\")\n",
    "plt.ylabel(\"coefficients\")\n",
    "plt.title(\"Elastic Net Coefficients\")\n",
    "for i in range(len(elnet_coef[0])):\n",
    "    plt.plot(np.log(alpha),[pt[i] for pt in elnet_coef],label = '%s'%X_train.columns[i])\n",
    "plt.legend()\n",
    "plt.show()"
   ]
  },
  {
   "cell_type": "code",
   "execution_count": 36,
   "metadata": {},
   "outputs": [
    {
     "data": {
      "text/plain": [
       "0.7322134359907528"
      ]
     },
     "execution_count": 36,
     "metadata": {},
     "output_type": "execute_result"
    }
   ],
   "source": [
    "#getting r-square of elastic net\n",
    "elnet = ElasticNet(alpha = best_elnet)\n",
    "elnet.fit(X_train, y_train)\n",
    "elnet.score(X_test, y_test)"
   ]
  },
  {
   "cell_type": "markdown",
   "metadata": {},
   "source": [
    "### Ridge regression prevents overfitting and prevents from having high values of coefficients. But might add up to high bias. This bias is further increased with Lasso, which selects only a few features, might give sharp drop in coefficient values and prediction performance is low. Elastic nets gave slightly lesser accuracy, which might be due to added flexibility leading to overfitting of the model, than ridge in this case and tend to be computationally more intensive."
   ]
  },
  {
   "cell_type": "code",
   "execution_count": 38,
   "metadata": {},
   "outputs": [
    {
     "data": {
      "text/plain": [
       "(0.004526319242200032, 0.731068476318641)"
      ]
     },
     "execution_count": 38,
     "metadata": {},
     "output_type": "execute_result"
    }
   ],
   "source": [
    "# part 6\n",
    "from sklearn.linear_model import LinearRegression\n",
    "\n",
    "#linear regression\n",
    "linear = LinearRegression()\n",
    "y_pred = linear.fit(X_train,y_train).predict(X_test)\n",
    "mse = mean_squared_error(y_test, y_pred)\n",
    "\n",
    "#mse and r-square\n",
    "mse, linear.score(X_test, y_test)"
   ]
  },
  {
   "cell_type": "code",
   "execution_count": 23,
   "metadata": {},
   "outputs": [
    {
     "data": {
      "text/plain": [
       "(0.00452014267640071, 0.7314354573384603)"
      ]
     },
     "execution_count": 23,
     "metadata": {},
     "output_type": "execute_result"
    }
   ],
   "source": [
    "#lasso results\n",
    "lasso = Lasso(alpha = best_lasso)\n",
    "y_pred = lasso.fit(X_train, y_train).predict(X_test)\n",
    "mse = mean_squared_error(y_test, y_pred)\n",
    "\n",
    "#mse and r-square\n",
    "mse, lasso.score(X_test, y_test)"
   ]
  },
  {
   "cell_type": "code",
   "execution_count": 24,
   "metadata": {},
   "outputs": [
    {
     "data": {
      "text/plain": [
       "(0.004491296653570112, 0.733149345479547)"
      ]
     },
     "execution_count": 24,
     "metadata": {},
     "output_type": "execute_result"
    }
   ],
   "source": [
    "#ridge results\n",
    "ridge = Ridge(alpha = best_ridge)\n",
    "y_pred = ridge.fit(X_train, y_train).predict(X_test)\n",
    "mse = mean_squared_error(y_test, y_pred)\n",
    "\n",
    "#mse and r-square\n",
    "mse, ridge.score(X_test, y_test)"
   ]
  },
  {
   "cell_type": "code",
   "execution_count": 25,
   "metadata": {},
   "outputs": [
    {
     "data": {
      "text/plain": [
       "(0.004526319242200031, 0.731068476318641)"
      ]
     },
     "execution_count": 25,
     "metadata": {},
     "output_type": "execute_result"
    }
   ],
   "source": [
    "# part 7\n",
    "\n",
    "#modelling without scaling\n",
    "\n",
    "X_train2, X_test2, y_train2, y_test2 = train_test_split(X, y, test_size=0.25, random_state=50)\n",
    "\n",
    "#linear regression\n",
    "linear = LinearRegression()\n",
    "y_pred = linear.fit(X_train2,y_train2).predict(X_test2)\n",
    "mse = mean_squared_error(y_test2, y_pred)\n",
    "\n",
    "#mse and r-square\n",
    "mse, linear.score(X_test2, y_test2)"
   ]
  },
  {
   "cell_type": "code",
   "execution_count": 26,
   "metadata": {},
   "outputs": [],
   "source": [
    "mse_lasso3=[]\n",
    "mse_ridge3=[]\n",
    "\n",
    "#lasso regression to find best alpha\n",
    "for i in alpha:\n",
    "    lasso = Lasso(alpha = i)\n",
    "    mse_temp=[]\n",
    "    \n",
    "    for train_index, test_index in kf.split(X_train2):\n",
    "        X_traincv, X_testcv = X_train2.iloc[train_index], X_train2.iloc[test_index]\n",
    "        y_traincv, y_testcv = y_train2.iloc[train_index], y_train2.iloc[test_index]\n",
    "        y_pred = lasso.fit(X_traincv, y_traincv).predict(X_testcv)\n",
    "        mse = mean_squared_error(y_testcv, y_pred)\n",
    "        mse_temp.append(mse)\n",
    "    \n",
    "    mse_lasso3.append(np.mean(mse_temp))\n",
    "        \n",
    "best_lasso3 = alpha[mse_lasso3.index(min(mse_lasso3))]\n",
    "\n",
    "#ridge regression to find best alpha\n",
    "for i in alpha:\n",
    "    ridge = Ridge(alpha = i)\n",
    "    mse_temp=[]\n",
    "    \n",
    "    for train_index, test_index in kf.split(X_train2):\n",
    "        X_traincv, X_testcv = X_train2.iloc[train_index], X_train2.iloc[test_index]\n",
    "        y_traincv, y_testcv = y_train2.iloc[train_index], y_train2.iloc[test_index]\n",
    "        y_pred = ridge.fit(X_traincv, y_traincv).predict(X_testcv)\n",
    "        mse = mean_squared_error(y_testcv, y_pred)\n",
    "        mse_temp.append(mse)\n",
    "    \n",
    "    mse_ridge3.append(np.mean(mse_temp))\n",
    "        \n",
    "best_ridge3 = alpha[mse_ridge3.index(min(mse_ridge3))]\n"
   ]
  },
  {
   "cell_type": "code",
   "execution_count": 27,
   "metadata": {},
   "outputs": [
    {
     "data": {
      "text/plain": [
       "(0.00455449597201753, 0.7293943542612462)"
      ]
     },
     "execution_count": 27,
     "metadata": {},
     "output_type": "execute_result"
    }
   ],
   "source": [
    "lasso = Lasso(alpha = best_lasso3)\n",
    "y_pred = lasso.fit(X_train2, y_train2).predict(X_test2)\n",
    "mse = mean_squared_error(y_test2, y_pred)\n",
    "\n",
    "#mse and r-square\n",
    "mse, lasso.score(X_test2, y_test2)"
   ]
  },
  {
   "cell_type": "code",
   "execution_count": 28,
   "metadata": {},
   "outputs": [
    {
     "data": {
      "text/plain": [
       "(0.004523878726830318, 0.7312134796827046)"
      ]
     },
     "execution_count": 28,
     "metadata": {},
     "output_type": "execute_result"
    }
   ],
   "source": [
    "ridge = Ridge(alpha = best_ridge3)\n",
    "y_pred = ridge.fit(X_train2, y_train2).predict(X_test2)\n",
    "mse = mean_squared_error(y_test2, y_pred)\n",
    "\n",
    "#mse and r-square\n",
    "mse, ridge.score(X_test2, y_test2)"
   ]
  },
  {
   "cell_type": "markdown",
   "metadata": {},
   "source": [
    "### Scaling gave a tad better accuracy than unscaled data as that helps give equal weightage to all the parameters while modelling."
   ]
  }
 ],
 "metadata": {
  "colab": {
   "collapsed_sections": [],
   "name": "MIS 382N - HW1.ipynb",
   "provenance": []
  },
  "kernelspec": {
   "display_name": "Python 3",
   "language": "python",
   "name": "python3"
  },
  "language_info": {
   "codemirror_mode": {
    "name": "ipython",
    "version": 3
   },
   "file_extension": ".py",
   "mimetype": "text/x-python",
   "name": "python",
   "nbconvert_exporter": "python",
   "pygments_lexer": "ipython3",
   "version": "3.7.6"
  }
 },
 "nbformat": 4,
 "nbformat_minor": 1
}
